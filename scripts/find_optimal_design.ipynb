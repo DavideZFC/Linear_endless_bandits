{
 "cells": [
  {
   "cell_type": "code",
   "execution_count": 1,
   "metadata": {},
   "outputs": [],
   "source": [
    "import numpy as np"
   ]
  },
  {
   "cell_type": "code",
   "execution_count": 21,
   "metadata": {},
   "outputs": [
    {
     "name": "stdout",
     "output_type": "stream",
     "text": [
      "[22 23 36 41 46 48 70 78 79 81 83 94]\n"
     ]
    }
   ],
   "source": [
    "k = 100\n",
    "d = 3\n",
    "active_arms01 = np.random.binomial(n=1, p=0.1, size=k)\n",
    "active_arms = np.where(active_arms01 == 1)[0]\n",
    "print(active_arms)"
   ]
  },
  {
   "cell_type": "code",
   "execution_count": 10,
   "metadata": {},
   "outputs": [],
   "source": [
    "def make_smaller_matrix(A, active_arms):\n",
    "    B = np.zeros((len(active_arms),A.shape[1]))\n",
    "\n",
    "    for i in range(len(active_arms)):\n",
    "        B[i,:] = A[active_arms[i],:]\n",
    "\n",
    "    return B"
   ]
  },
  {
   "cell_type": "code",
   "execution_count": 57,
   "metadata": {},
   "outputs": [],
   "source": [
    "A = np.random.normal(size=(k,d))"
   ]
  },
  {
   "cell_type": "code",
   "execution_count": 58,
   "metadata": {},
   "outputs": [],
   "source": [
    "B = make_smaller_matrix(A, active_arms)"
   ]
  },
  {
   "cell_type": "code",
   "execution_count": 68,
   "metadata": {},
   "outputs": [],
   "source": [
    "def compute_induced_norm(Ainv, v):\n",
    "    results = np.zeros(v.shape[0])\n",
    "    for i in range(v.shape[0]):\n",
    "        results[i] = np.dot(v[i,:].T, np.dot(Ainv, v[i,:]))\n",
    "    return results\n",
    "\n",
    "def compute_design_matrix(A, pi):\n",
    "    D = np.zeros((A.shape[1],A.shape[1]))\n",
    "\n",
    "    for i in range(A.shape[1]):\n",
    "        D += pi[i]*np.dot(A[i:i+1,:].T,A[i:i+1,:])\n",
    "    return D\n",
    "\n",
    "def onehot(idx, k):\n",
    "    v = np.zeros(k)\n",
    "    v[idx] = 1\n",
    "    return v\n",
    "\n",
    "\n",
    "\n",
    "def find_optimal_design(A, iter=10):\n",
    "    k = A.shape[0]\n",
    "    pi = np.ones(k)/k\n",
    "\n",
    "    for it in range(iter):\n",
    "        D = compute_design_matrix(A, pi)\n",
    "        Dinv = np.linalg.inv(D)\n",
    "        v = compute_induced_norm(Dinv, A)\n",
    "\n",
    "        best_index = np.argmax(v)\n",
    "        current = v[best_index]\n",
    "        print(Dinv)\n",
    "        print(A[best_index])\n",
    "        gamma = (current/d-1)/(current-1)\n",
    "\n",
    "        pi = (1-gamma)*pi + gamma*onehot(best_index, k)\n",
    "        # print(pi)\n",
    "\n",
    "    return "
   ]
  },
  {
   "cell_type": "code",
   "execution_count": 69,
   "metadata": {},
   "outputs": [
    {
     "name": "stdout",
     "output_type": "stream",
     "text": [
      "[[15.85201553 23.59519798  7.66502448]\n",
      " [23.59519798 41.55447795 11.76943277]\n",
      " [ 7.66502448 11.76943277  6.31968102]]\n",
      "[0.08273748 0.98111917 2.14192313]\n",
      "[[23.58797584 35.10991764 11.40564188]\n",
      " [35.10991764 61.83352646 17.51304717]\n",
      " [11.40564188 17.51304717  9.40375582]]\n",
      "[0.08273748 0.98111917 2.14192313]\n",
      "[[35.1919163  52.38199714 17.01656798]\n",
      " [52.38199714 92.25209922 26.12846877]\n",
      " [17.01656798 26.12846877 14.02986801]]\n",
      "[0.08273748 0.98111917 2.14192313]\n",
      "[[ 52.59782698  78.29011638  25.43295713]\n",
      " [ 78.29011638 137.87995837  39.05160118]\n",
      " [ 25.43295713  39.05160118  20.9690363 ]]\n",
      "[0.08273748 0.98111917 2.14192313]\n",
      "[[ 78.70669301 117.15229524  38.05754085]\n",
      " [117.15229524 206.32174708  58.43629978]\n",
      " [ 38.05754085  58.43629978  31.37778873]]\n",
      "[0.08273748 0.98111917 2.14192313]\n",
      "[[117.86999206 175.44556353  56.99441643]\n",
      " [175.44556353 308.98443015  87.51334769]\n",
      " [ 56.99441643  87.51334769  46.99091738]]\n",
      "[0.08273748 0.98111917 2.14192313]\n",
      "[[176.61494063 262.88546597  85.3997298 ]\n",
      " [262.88546597 462.97845475 131.12891955]\n",
      " [ 85.3997298  131.12891955  70.41061034]]\n",
      "[0.08273748 0.98111917 2.14192313]\n",
      "[[264.73236348 394.04531964 128.00769987]\n",
      " [394.04531964 693.96949166 196.55227734]\n",
      " [128.00769987 196.55227734 105.5401498 ]]\n",
      "[0.08273748 0.98111917 2.14192313]\n",
      "[[ 396.90849776  590.78510013  191.91965496]\n",
      " [ 590.78510013 1040.45604701  294.68731403]\n",
      " [ 191.91965496  294.68731403  158.23445898]]\n",
      "[0.08273748 0.98111917 2.14192313]\n",
      "[[ 595.17269918  885.89477086  287.78758759]\n",
      " [ 885.89477086 1560.18588005  441.88986906]\n",
      " [ 287.78758759  441.88986906  237.27592275]]\n",
      "[0.08273748 0.98111917 2.14192313]\n"
     ]
    }
   ],
   "source": [
    "find_optimal_design(B)"
   ]
  }
 ],
 "metadata": {
  "kernelspec": {
   "display_name": "Python 3",
   "language": "python",
   "name": "python3"
  },
  "language_info": {
   "codemirror_mode": {
    "name": "ipython",
    "version": 3
   },
   "file_extension": ".py",
   "mimetype": "text/x-python",
   "name": "python",
   "nbconvert_exporter": "python",
   "pygments_lexer": "ipython3",
   "version": "3.11.3"
  }
 },
 "nbformat": 4,
 "nbformat_minor": 2
}
